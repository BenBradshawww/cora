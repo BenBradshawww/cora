{
 "cells": [
  {
   "cell_type": "code",
   "execution_count": 14,
   "metadata": {},
   "outputs": [],
   "source": [
    "import torch\n",
    "from torch_geometric.datasets import Planetoid\n",
    "from torch_geometric.utils import to_networkx\n",
    "\n",
    "import torchvision.datasets as datasets\n",
    "\n",
    "import os\n",
    "import numpy as np\n",
    "import matplotlib.pyplot as plt\n",
    "\n",
    "import networkx as nx\n",
    "import pandas as pd\n",
    "\n",
    "import torch\n",
    "\n",
    "from collections import defaultdict, Counter\n",
    "\n",
    "from plotting.plotting_functions import plot_heatplot, plot_degrees_histogram, plot_counts, plot_eigenvalues, plot_example_nodes, plot_graph"
   ]
  },
  {
   "cell_type": "code",
   "execution_count": null,
   "metadata": {},
   "outputs": [],
   "source": [
    "data_dir = \"./data\"\n",
    "os.makedirs(data_dir, exist_ok=True)\n",
    "\n",
    "data = Planetoid('./data/Planetoid', name='Cora')[0]\n",
    "\n",
    "label_dict = {\n",
    "    0: \"Theory\",\n",
    "    1: \"Reinforcement_Learning\",\n",
    "    2: \"Genetic_Algorithms\",\n",
    "    3: \"Neural_Networks\",\n",
    "    4: \"Probabilistic_Methods\",\n",
    "    5: \"Case_Based\",\n",
    "    6: \"Rule_Learning\"}"
   ]
  },
  {
   "cell_type": "code",
   "execution_count": null,
   "metadata": {},
   "outputs": [],
   "source": [
    "print(f'Number of nodes: {data.num_nodes}')\n",
    "# Number of nodes: 2708\n",
    "\n",
    "print(f'Number of edges: {data.num_edges}')\n",
    "# Number of edges: 10556\n",
    "\n",
    "print(f'Average Degree: {round(data.num_edges / data.num_nodes, 1)}')\n",
    "# Number of edges: 10556\n",
    "\n",
    "# Graph Features\n",
    "print(f'Has isolated nodes: {data.has_isolated_nodes()}')\n",
    "print(f'Has self-loops: {data.has_self_loops()}')\n",
    "print(f'Is undirected: {data.is_undirected()}')\n",
    "print(f'Is undirected: {data.num_edge_features}')\n",
    "print(f'Is undirected: {data.num_node_features}')"
   ]
  },
  {
   "cell_type": "code",
   "execution_count": null,
   "metadata": {},
   "outputs": [],
   "source": [
    "plot_example_nodes(data)"
   ]
  },
  {
   "cell_type": "code",
   "execution_count": null,
   "metadata": {},
   "outputs": [],
   "source": [
    "G = to_networkx(data, to_undirected=True)\n",
    "degrees = [val for (node, val) in G.degree()]\n",
    "display(pd.DataFrame(pd.Series(degrees).describe()).transpose().round(2))\n",
    "\n",
    "plot_degrees_histogram(degrees)"
   ]
  },
  {
   "cell_type": "code",
   "execution_count": null,
   "metadata": {},
   "outputs": [],
   "source": [
    "counter = Counter(data.y.numpy())\n",
    "counter = dict(counter)\n",
    "keys = sorted(counter.keys())\n",
    "index_storage = defaultdict(list)\n",
    "\n",
    "count = [x[1] for x in sorted(counter.items())]\n",
    "\n",
    "plot_counts(count)"
   ]
  },
  {
   "cell_type": "code",
   "execution_count": null,
   "metadata": {},
   "outputs": [],
   "source": [
    "G = to_networkx(data, to_undirected=True)\n",
    "\n",
    "L = nx.normalized_laplacian_matrix(G)\n",
    "eiegnvalues = np.linalg.eigvals(L.toarray())\n",
    "\n",
    "print(\"Largest eigenvalue:\", max(eiegnvalues))\n",
    "print(\"Smallest eigenvalue:\", min(eiegnvalues))\n",
    "\n",
    "eiegnvalues.sort()"
   ]
  },
  {
   "cell_type": "code",
   "execution_count": null,
   "metadata": {},
   "outputs": [],
   "source": [
    "abs_e = [abs(eigenvalue) for eigenvalue in eiegnvalues] # Removing complex eigenvalues due to rounding errors.\n",
    "\n",
    "plot_eigenvalues(abs_e)"
   ]
  },
  {
   "cell_type": "code",
   "execution_count": null,
   "metadata": {},
   "outputs": [],
   "source": [
    "num_components = nx.number_connected_components(G)\n",
    "print('Number of Components: ', num_components)\n",
    "\n",
    "complex_eigenvalues = [ev for ev in eiegnvalues if np.iscomplex(ev)]\n",
    "print('Number of complex eigenvalues: ', len(complex_eigenvalues))\n",
    "\n",
    "zero_eigen_values = [eigenvalue for eigenvalue in eiegnvalues if np.abs(eigenvalue) < 1e-9]\n",
    "print('Number of non-zero eigenvalues: ', len(zero_eigen_values))\n",
    "\n",
    "non_zero_eigen_values = [eigenvalue for eigenvalue in eiegnvalues if np.abs(eigenvalue) > 1e-9]\n",
    "print('Number of zero eigenvalues: ', len(non_zero_eigen_values))\n",
    "\n",
    "complex_eigenvalues = [ev for ev in non_zero_eigen_values if np.iscomplex(ev)]\n",
    "print('Number of Remaining non-zero Complex Eigenvalues: ', len(complex_eigenvalues))\n",
    "\n",
    "non_complex_eigenvalues = [np.abs(ev)for ev in non_zero_eigen_values]"
   ]
  },
  {
   "cell_type": "code",
   "execution_count": null,
   "metadata": {},
   "outputs": [],
   "source": [
    "plot_graph(data, label_dict)"
   ]
  },
  {
   "cell_type": "code",
   "execution_count": null,
   "metadata": {},
   "outputs": [],
   "source": [
    "labels = data.y.numpy()\n",
    "connected_labels_set = list(map(lambda x: labels[x], data.edge_index.numpy()))\n",
    "connected_labels_set = np.array(connected_labels_set)\n",
    "\n",
    "def add_missing_keys(counter, classes):\n",
    "    for x in classes:\n",
    "        if x not in counter.keys():\n",
    "            counter[x] = 0\n",
    "    return counter\n",
    "label_connection_counts = []\n",
    "\n",
    "\n",
    "for i in range(7):\n",
    "    connected_labels = connected_labels_set[:, np.where(connected_labels_set[0] == i)[0]]\n",
    "    counter = Counter(connected_labels[1])\n",
    "    counter = dict(counter)\n",
    "    counter = add_missing_keys(counter, range(7))\n",
    "    items = sorted(counter.items())\n",
    "    items = [x[1] for x in items]\n",
    "    label_connection_counts.append(items)\n",
    "\n",
    "\n",
    "label_connection_counts = np.array(label_connection_counts)\n",
    "\n",
    "plot_heatplot(counts=label_connection_counts, label_dict=label_dict, title='Heatmap')"
   ]
  },
  {
   "cell_type": "code",
   "execution_count": null,
   "metadata": {},
   "outputs": [],
   "source": [
    "same_edges = label_connection_counts.diagonal().sum().item()\n",
    "total_edges = label_connection_counts.sum().item()\n",
    "print(f'Nodes Connected to Same Nodes: {(100*same_edges/total_edges):.2f}%')"
   ]
  },
  {
   "cell_type": "code",
   "execution_count": null,
   "metadata": {},
   "outputs": [],
   "source": [
    "def scaling(array):\n",
    "    return array / sum(array)\n",
    "\n",
    "label_connection_counts_scaled = np.apply_along_axis(scaling, 1, label_connection_counts)\n",
    "\n",
    "plot_heatplot(label_connection_counts_scaled, label_dict, title='Heatmap with Scaled Values')"
   ]
  }
 ],
 "metadata": {
  "kernelspec": {
   "display_name": "Python 3 (ipykernel)",
   "language": "python",
   "name": "python3"
  }
 },
 "nbformat": 4,
 "nbformat_minor": 2
}
